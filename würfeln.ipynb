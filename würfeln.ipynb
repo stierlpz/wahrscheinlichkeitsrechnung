{
  "nbformat": 4,
  "nbformat_minor": 0,
  "metadata": {
    "colab": {
      "name": "würfeln",
      "private_outputs": true,
      "provenance": [],
      "collapsed_sections": [],
      "authorship_tag": "ABX9TyNED/RITtYA4R1X5Ebcg0+X",
      "include_colab_link": true
    },
    "kernelspec": {
      "name": "python3",
      "display_name": "Python 3"
    },
    "language_info": {
      "name": "python"
    }
  },
  "cells": [
    {
      "cell_type": "markdown",
      "metadata": {
        "id": "view-in-github",
        "colab_type": "text"
      },
      "source": [
        "<a href=\"https://colab.research.google.com/github/stierlpz/wahrscheinlichkeitsrechnung/blob/main/w%C3%BCrfeln.ipynb\" target=\"_parent\"><img src=\"https://colab.research.google.com/assets/colab-badge.svg\" alt=\"Open In Colab\"/></a>"
      ]
    },
    {
      "cell_type": "code",
      "metadata": {
        "id": "j372dX3huffk"
      },
      "source": [
        "from collections import Counter\n",
        "import random\n",
        "c = Counter()\n",
        "anzahl_wuerfe = 100\n",
        "for wurf in range(anzahl_wuerfe):\n",
        "    augenzahl = random.randint(1, 6)#1,6\n",
        "    c[augenzahl] += 1\n",
        "    \n",
        "print(c)\n",
        "for augenzahl in c:\n",
        "    print(f\"Augenzahl: {augenzahl}, \\\n",
        "          relative Häufigkeit : {c[augenzahl]/anzahl_wuerfe}\\\n",
        "          Häufigkeit in %     : {c[augenzahl]/anzahl_wuerfe*100}%)\\\n",
        "          geworfen            : {c[augenzahl]}-mal\")\\"
      ],
      "execution_count": null,
      "outputs": []
    },
    {
      "cell_type": "code",
      "metadata": {
        "id": "e0Z74pI6ush-"
      },
      "source": [
        "import numpy as np\n",
        "from collections import Counter\n",
        "anzahl_wuerfe=100\n",
        "outcome = np.random.randint(1, 7, size=anzahl_wuerfe)#1,7\n",
        "c = Counter(outcome)\n",
        "for augenzahl in c:\n",
        "    print(f\"Augenzahl: {augenzahl}, \\\n",
        "          relative Häufigkeit : {c[augenzahl]/anzahl_wuerfe}\\\n",
        "          Häufigkeit in %     : {c[augenzahl]/anzahl_wuerfe*100}%\\\n",
        "          geworfen            : {c[augenzahl]}-mal\")\\"
      ],
      "execution_count": null,
      "outputs": []
    }
  ]
}